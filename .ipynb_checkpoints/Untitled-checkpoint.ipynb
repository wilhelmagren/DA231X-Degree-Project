{
 "cells": [
  {
   "cell_type": "code",
   "execution_count": 2,
   "metadata": {},
   "outputs": [
    {
     "ename": "ModuleNotFoundError",
     "evalue": "No module named 'braindecode.preprocessing'",
     "output_type": "error",
     "traceback": [
      "\u001b[1;31m---------------------------------------------------------------------------\u001b[0m",
      "\u001b[1;31mModuleNotFoundError\u001b[0m                       Traceback (most recent call last)",
      "\u001b[1;32m<ipython-input-2-11f4032f0e71>\u001b[0m in \u001b[0;36m<module>\u001b[1;34m\u001b[0m\n\u001b[0;32m      2\u001b[0m \u001b[1;32mimport\u001b[0m \u001b[0mnumpy\u001b[0m \u001b[1;32mas\u001b[0m \u001b[0mnp\u001b[0m\u001b[1;33m\u001b[0m\u001b[1;33m\u001b[0m\u001b[0m\n\u001b[0;32m      3\u001b[0m \u001b[1;33m\u001b[0m\u001b[0m\n\u001b[1;32m----> 4\u001b[1;33m \u001b[1;32mfrom\u001b[0m \u001b[0mbraindecode\u001b[0m\u001b[1;33m.\u001b[0m\u001b[0mpreprocessing\u001b[0m\u001b[1;33m.\u001b[0m\u001b[0mwindowers\u001b[0m \u001b[1;32mimport\u001b[0m \u001b[0mcreate_fixed_length_windows\u001b[0m\u001b[1;33m\u001b[0m\u001b[1;33m\u001b[0m\u001b[0m\n\u001b[0m\u001b[0;32m      5\u001b[0m \u001b[1;32mfrom\u001b[0m \u001b[0mbraindecode\u001b[0m\u001b[1;33m.\u001b[0m\u001b[0mpreprocessing\u001b[0m\u001b[1;33m.\u001b[0m\u001b[0mpreprocess\u001b[0m \u001b[1;32mimport\u001b[0m \u001b[0mpreprocess\u001b[0m\u001b[1;33m,\u001b[0m \u001b[0mPreprocessor\u001b[0m\u001b[1;33m,\u001b[0m \u001b[0mzscore\u001b[0m\u001b[1;33m\u001b[0m\u001b[1;33m\u001b[0m\u001b[0m\n\u001b[0;32m      6\u001b[0m \u001b[1;32mfrom\u001b[0m \u001b[0mneurocode\u001b[0m\u001b[1;33m.\u001b[0m\u001b[0mmodels\u001b[0m \u001b[1;32mimport\u001b[0m \u001b[0mload_model\u001b[0m\u001b[1;33m,\u001b[0m \u001b[0mSignalNet\u001b[0m\u001b[1;33m\u001b[0m\u001b[1;33m\u001b[0m\u001b[0m\n",
      "\u001b[1;31mModuleNotFoundError\u001b[0m: No module named 'braindecode.preprocessing'"
     ]
    }
   ],
   "source": [
    "import torch\n",
    "import numpy as np\n",
    "\n",
    "from braindecode.preprocessing.windowers import create_fixed_length_windows\n",
    "from braindecode.preprocessing.preprocess import preprocess, Preprocessor, zscore\n",
    "from neurocode.models import load_model, SignalNet\n",
    "from neurocode.datasets import SLEMEG, RecordingDataset\n",
    "from neurocode.samplers import SignalSampler\n",
    "from sklearn.pipeline import make_pipeline\n",
    "from sklearn.preprocessing import StandardScaler\n",
    "from sklearn.cluster import KMeans\n",
    "\n",
    "np.random.seed(73)\n",
    "torch.manual_seed(73)\n",
    "\n",
    "n_channels = 3 \n",
    "sfreq = 200\n",
    "input_size_s = 5.0\n",
    "n_conv_chs = 50\n",
    "dropout= 0.0\n",
    "subjects = list(range(0, 34))\n",
    "recordings = [0,1,2,3]\n",
    "batch_size = 1\n",
    "n_samples = 1\n",
    "n_views = 2\n",
    "window_size_samples = np.ceil(sfreq * input_size_s).astype(int)\n",
    "\n",
    "\n",
    "device = 'cuda' if torch.cuda.is_available() else 'cpu'\n"
   ]
  },
  {
   "cell_type": "code",
   "execution_count": 3,
   "metadata": {},
   "outputs": [
    {
     "ename": "NameError",
     "evalue": "name 'Preprocessor' is not defined",
     "output_type": "error",
     "traceback": [
      "\u001b[1;31m---------------------------------------------------------------------------\u001b[0m",
      "\u001b[1;31mNameError\u001b[0m                                 Traceback (most recent call last)",
      "\u001b[1;32m<ipython-input-3-a65f03c65929>\u001b[0m in \u001b[0;36m<module>\u001b[1;34m\u001b[0m\n\u001b[1;32m----> 1\u001b[1;33m \u001b[0mpreprocessors\u001b[0m \u001b[1;33m=\u001b[0m \u001b[1;33m[\u001b[0m\u001b[0mPreprocessor\u001b[0m\u001b[1;33m(\u001b[0m\u001b[1;32mlambda\u001b[0m \u001b[0mx\u001b[0m\u001b[1;33m:\u001b[0m \u001b[0mx\u001b[0m\u001b[1;33m*\u001b[0m\u001b[1;36m1e12\u001b[0m\u001b[1;33m)\u001b[0m\u001b[1;33m]\u001b[0m\u001b[1;33m\u001b[0m\u001b[1;33m\u001b[0m\u001b[0m\n\u001b[0m\u001b[0;32m      2\u001b[0m recording_dataset = SLEMEG(subjects=subjects, recordings=recordings, preload=True,\n\u001b[0;32m      3\u001b[0m         load_meg_only=True, preprocessors=preprocessors, cleaned=True)\n\u001b[0;32m      4\u001b[0m \u001b[1;33m\u001b[0m\u001b[0m\n\u001b[0;32m      5\u001b[0m \u001b[1;33m\u001b[0m\u001b[0m\n",
      "\u001b[1;31mNameError\u001b[0m: name 'Preprocessor' is not defined"
     ]
    }
   ],
   "source": [
    "\n",
    "preprocessors = [Preprocessor(lambda x: x*1e12)]\n",
    "recording_dataset = SLEMEG(subjects=subjects, recordings=recordings, preload=True,\n",
    "        load_meg_only=True, preprocessors=preprocessors, cleaned=True)\n",
    "\n",
    "\n",
    "windows_dataset = create_fixed_length_windows(recording_dataset, start_offset_samples=0,\n",
    "        stop_offset_samples=0, drop_last_window=True, window_size_samples=window_size_samples,\n",
    "        window_stride_samples=window_size_samples, preload=True)\n",
    "\n",
    "preprocess(windows_dataset, [Preprocessor(zscore)])\n",
    "dataset = RecordingDataset(windows_dataset.datasets, recording_dataset.labels, sfreq=sfreq, channels='MEG')\n",
    "train_dataset, valid_dataset = dataset.split_fixed()\n",
    "\n",
    "samplers = {'train': SignalSampler(train_dataset.get_data(), train_dataset.get_labels(),\n",
    "    train_dataset.get_info(), n_channels=n_channels, \n",
    "    n_views=n_views, n_samples=n_samples, batch_size=batch_size),\n",
    "           'valid': SignalSampler(valid_dataset.get_data(), valid_dataset.get_labels(),\n",
    "    valid_dataset.get_info(), n_channels=n_channels, \n",
    "    n_views=n_views, n_samples=n_samples, batch_size=batch_size)}\n"
   ]
  },
  {
   "cell_type": "code",
   "execution_count": null,
   "metadata": {},
   "outputs": [],
   "source": [
    "model = load_model('params.pth').to(device)\n",
    "for param in model.parameters():\n",
    "    param.requires_grad = False\n",
    "model._return_features = True\n",
    "model.eval()\n",
    "X_features = []\n",
    "with torch.no_grad():\n",
    "    for recording in range(len(samplers['valid'].data)):\n",
    "        for window in range(len(samplers['valid'].data[recording])):\n",
    "            w = torch.Tensor(samplers['valid'].data[recording][window][0][None]).float().to(device)\n",
    "            labels = samplers['valid'].labels[recording]\n",
    "            baseline_feature = baseline_encoder(w.unsqueeze(0))\n",
    "            X_features.append(baseline_feature.cpu().detach().numpy())"
   ]
  }
 ],
 "metadata": {
  "kernelspec": {
   "display_name": "Python 3",
   "language": "python",
   "name": "python3"
  },
  "language_info": {
   "codemirror_mode": {
    "name": "ipython",
    "version": 3
   },
   "file_extension": ".py",
   "mimetype": "text/x-python",
   "name": "python",
   "nbconvert_exporter": "python",
   "pygments_lexer": "ipython3",
   "version": "3.8.5"
  }
 },
 "nbformat": 4,
 "nbformat_minor": 4
}
